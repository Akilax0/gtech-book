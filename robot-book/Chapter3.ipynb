{
 "cells": [
  {
   "cell_type": "markdown",
   "id": "ba9bd79d",
   "metadata": {},
   "source": [
    "# Vaccum Cleaner\n",
    "\n",
    "\n"
   ]
  },
  {
   "cell_type": "code",
   "execution_count": 2,
   "id": "bc4d204d",
   "metadata": {},
   "outputs": [],
   "source": [
    "import gtsam\n",
    "import gtbook.discrete\n"
   ]
  },
  {
   "cell_type": "code",
   "execution_count": 3,
   "id": "297b8e07",
   "metadata": {},
   "outputs": [],
   "source": [
    "import gtsam\n",
    "\n",
    "import sys\n",
    "\n",
    "#sys.path.insert(1,'/home/akilax0/Documents/projects/gtbook/gtbook')\n",
    "\n",
    "\n",
    "import gtbook.discrete\n"
   ]
  }
 ],
 "metadata": {
  "kernelspec": {
   "display_name": "robot",
   "language": "python",
   "name": "python3"
  },
  "language_info": {
   "codemirror_mode": {
    "name": "ipython",
    "version": 3
   },
   "file_extension": ".py",
   "mimetype": "text/x-python",
   "name": "python",
   "nbconvert_exporter": "python",
   "pygments_lexer": "ipython3",
   "version": "3.10.16"
  }
 },
 "nbformat": 4,
 "nbformat_minor": 5
}
